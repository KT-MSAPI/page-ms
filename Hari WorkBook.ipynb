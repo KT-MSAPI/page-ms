{
 "cells": [
  {
   "cell_type": "code",
   "execution_count": 2,
   "id": "intended-pottery",
   "metadata": {},
   "outputs": [
    {
     "data": {
      "text/html": [
       "<div>\n",
       "<style scoped>\n",
       "    .dataframe tbody tr th:only-of-type {\n",
       "        vertical-align: middle;\n",
       "    }\n",
       "\n",
       "    .dataframe tbody tr th {\n",
       "        vertical-align: top;\n",
       "    }\n",
       "\n",
       "    .dataframe thead th {\n",
       "        text-align: right;\n",
       "    }\n",
       "</style>\n",
       "<table border=\"1\" class=\"dataframe\">\n",
       "  <thead>\n",
       "    <tr style=\"text-align: right;\">\n",
       "      <th></th>\n",
       "      <th>title</th>\n",
       "      <th>image_link</th>\n",
       "      <th>id</th>\n",
       "    </tr>\n",
       "  </thead>\n",
       "  <tbody>\n",
       "    <tr>\n",
       "      <th>0</th>\n",
       "      <td>யூகலிப்டஸ்</td>\n",
       "      <td>https://lh3.googleusercontent.com/pw/ACtC-3ct3...</td>\n",
       "      <td>4</td>\n",
       "    </tr>\n",
       "    <tr>\n",
       "      <th>1</th>\n",
       "      <td>சவுக்கு மரம்</td>\n",
       "      <td>https://lh3.googleusercontent.com/pw/ACtC-3ct3...</td>\n",
       "      <td>3</td>\n",
       "    </tr>\n",
       "  </tbody>\n",
       "</table>\n",
       "</div>"
      ],
      "text/plain": [
       "          title                                         image_link  id\n",
       "0    யூகலிப்டஸ்  https://lh3.googleusercontent.com/pw/ACtC-3ct3...   4\n",
       "1  சவுக்கு மரம்  https://lh3.googleusercontent.com/pw/ACtC-3ct3...   3"
      ]
     },
     "execution_count": 2,
     "metadata": {},
     "output_type": "execute_result"
    }
   ],
   "source": [
    "import pandas as pd\n",
    "project_id = Page.objects.get(title='Jamun').id\n",
    "advisory_page = Page.objects.filter(title='ADVISORY_TAMIL',parent_id=project_id)\n",
    "child_page = Page.objects.filter(parent=advisory_page).order_by('_order')\n",
    "crop_names = child_page.values_list('title', 'description', 'id')\n",
    "crop_columns = ['title', 'image_link', 'id']\n",
    "crop_df = pd.DataFrame(crop_names, columns=crop_columns)\n",
    "crop_df"
   ]
  },
  {
   "cell_type": "code",
   "execution_count": 5,
   "id": "prostate-shark",
   "metadata": {},
   "outputs": [
    {
     "data": {
      "text/html": [
       "<div>\n",
       "<style scoped>\n",
       "    .dataframe tbody tr th:only-of-type {\n",
       "        vertical-align: middle;\n",
       "    }\n",
       "\n",
       "    .dataframe tbody tr th {\n",
       "        vertical-align: top;\n",
       "    }\n",
       "\n",
       "    .dataframe thead th {\n",
       "        text-align: right;\n",
       "    }\n",
       "</style>\n",
       "<table border=\"1\" class=\"dataframe\">\n",
       "  <thead>\n",
       "    <tr style=\"text-align: right;\">\n",
       "      <th></th>\n",
       "      <th>id</th>\n",
       "      <th>title</th>\n",
       "      <th>parent_id</th>\n",
       "    </tr>\n",
       "  </thead>\n",
       "  <tbody>\n",
       "    <tr>\n",
       "      <th>0</th>\n",
       "      <td>5</td>\n",
       "      <td>நடவு</td>\n",
       "      <td>4</td>\n",
       "    </tr>\n",
       "    <tr>\n",
       "      <th>1</th>\n",
       "      <td>11</td>\n",
       "      <td>நடவு</td>\n",
       "      <td>3</td>\n",
       "    </tr>\n",
       "    <tr>\n",
       "      <th>2</th>\n",
       "      <td>6</td>\n",
       "      <td>சாகுபடி</td>\n",
       "      <td>4</td>\n",
       "    </tr>\n",
       "  </tbody>\n",
       "</table>\n",
       "</div>"
      ],
      "text/plain": [
       "   id    title  parent_id\n",
       "0   5     நடவு          4\n",
       "1  11     நடவு          3\n",
       "2   6  சாகுபடி          4"
      ]
     },
     "execution_count": 5,
     "metadata": {},
     "output_type": "execute_result"
    }
   ],
   "source": [
    "parent_ids = list(child_page.values_list('id', flat=True))\n",
    "crop_level_two_obj = Page.objects.filter(parent_id__in=parent_ids).order_by('_order')\n",
    "crop_level_two_list = list(crop_level_two_obj.values_list('id', 'title', 'parent_id'))\n",
    "crop_level_two_column = ['id', 'title', 'parent_id']\n",
    "crop_level_two_df = pd.DataFrame(crop_level_two_list, columns=crop_level_two_column)\n",
    "crop_level_two_df"
   ]
  },
  {
   "cell_type": "code",
   "execution_count": 12,
   "id": "divided-perspective",
   "metadata": {},
   "outputs": [
    {
     "name": "stderr",
     "output_type": "stream",
     "text": [
      "/Users/hari/Software/virtualenv/page_admin/lib/python3.8/site-packages/pandas/core/frame.py:1549: FutureWarning: Using short name for 'orient' is deprecated. Only the options: ('dict', list, 'series', 'split', 'records', 'index') will be used in a future version. Use one of the above to silence this warning.\n",
      "  warnings.warn(\n"
     ]
    },
    {
     "data": {
      "text/plain": [
       "[{'id': 372,\n",
       "  'title': 'Brochures on Ailanthus excelsa',\n",
       "  'parent_id': 370,\n",
       "  'price': '10.5'},\n",
       " {'id': 373,\n",
       "  'title': 'Brochures on Automated Open Chambers',\n",
       "  'parent_id': 370,\n",
       "  'price': '7.5'}]"
      ]
     },
     "execution_count": 12,
     "metadata": {},
     "output_type": "execute_result"
    }
   ],
   "source": [
    "import pandas as pd\n",
    "parent_id = Page.objects.get(title='Brochures').id\n",
    "publication_obj = Page.objects.filter(parent_id=parent_id)\n",
    "publication_list = list(publication_obj.values_list('id', 'title', 'parent_id', 'description'))\n",
    "publication_column = ['id', 'title', 'parent_id', 'price']\n",
    "publication_df = pd.DataFrame(publication_list, columns=publication_column)\n",
    "publication_df.to_dict('r')"
   ]
  },
  {
   "cell_type": "code",
   "execution_count": null,
   "id": "elegant-fever",
   "metadata": {},
   "outputs": [],
   "source": []
  }
 ],
 "metadata": {
  "kernelspec": {
   "display_name": "Django Shell-Plus",
   "language": "python",
   "name": "django_extensions"
  },
  "language_info": {
   "codemirror_mode": {
    "name": "ipython",
    "version": 3
   },
   "file_extension": ".py",
   "mimetype": "text/x-python",
   "name": "python",
   "nbconvert_exporter": "python",
   "pygments_lexer": "ipython3",
   "version": "3.8.6"
  }
 },
 "nbformat": 4,
 "nbformat_minor": 5
}
