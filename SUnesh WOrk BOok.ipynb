{
 "cells": [
  {
   "cell_type": "code",
   "execution_count": 1,
   "id": "wicked-developer",
   "metadata": {},
   "outputs": [],
   "source": [
    "import pandas as pd"
   ]
  },
  {
   "cell_type": "code",
   "execution_count": null,
   "id": "disturbed-cancellation",
   "metadata": {},
   "outputs": [],
   "source": []
  },
  {
   "cell_type": "code",
   "execution_count": 7,
   "id": "decreased-tennis",
   "metadata": {},
   "outputs": [
    {
     "name": "stdout",
     "output_type": "stream",
     "text": [
      "<SearchableQuerySet [<Page: Jamun / ADVISORY_ENGLISH / Types>]>\n",
      "<SearchableQuerySet [<Page: Jamun / ADVISORY_ENGLISH / Types / Type1>]>\n",
      "<SearchableQuerySet [<Page: Jamun / ADVISORY_ENGLISH / Types / Type1 / Question_type1>]>\n",
      "<SearchableQuerySet [6]>\n",
      "{'parent': {'Question_type1': '<p>Question_type1</p>'}, 'child': {'Question_type1': [{'title': 'Question1', 'content': '<p>Answer1</p>', 'page_id': 7}, {'title': 'Question2', 'content': '<p>Answer2</p>', 'page_id': 8}]}}\n"
     ]
    }
   ],
   "source": [
    "project_id = Page.objects.get(title='Jamun').id\n",
    "language = 'English'\n",
    "action = 'second_level_serve'\n",
    "if action == 'initial_serve':\n",
    "    if language == 'English':\n",
    "        advisory_page = Page.objects.filter(title='ADVISORY_ENGLISH', parent_id=project_id)\n",
    "    if language == 'Tamil':\n",
    "        advisory_page = Page.objects.filter(title='ADVISORY_TAMIL',parent_id=project_id)\n",
    "\n",
    "    child_page = Page.objects.filter(parent=advisory_page).order_by('_order')\n",
    "    crop_names = child_page.values_list('title', flat=True)\n",
    "    print(crop_names)\n",
    "#     return Response(crop_names, status=status.HTTP_200_OK)\n",
    "if action == 'second_level_serve':\n",
    "    if language == 'English':\n",
    "        advisory_page = Page.objects.filter(title='ADVISORY_ENGLISH', parent_id=project_id)\n",
    "    if language == 'Tamil':\n",
    "        advisory_page = Page.objects.filter(title='ADVISORY_TAMIL', parent_id=project_id)\n",
    "    try:\n",
    "        main_page = Page.objects.filter(title='Types', parent=advisory_page)\n",
    "        print(main_page)\n",
    "        advisory_type = Page.objects.filter(parent=main_page, title='Type1')\n",
    "        print(advisory_type)\n",
    "        first_child_page = Page.objects.filter(parent=advisory_type)\n",
    "        print(first_child_page)\n",
    "        advisory_type_ids = first_child_page.values_list('id', flat=True)\n",
    "        print(advisory_type_ids)\n",
    "        richtext_parent = RichTextPage.objects.filter(page_ptr_id__in=advisory_type_ids)\n",
    "        richtext_parent_list = list(richtext_parent.values_list('id', 'parent', 'title', 'content'))\n",
    "        richtext_parent_column = ['id', 'parent', 'parent_title', 'main_content']\n",
    "        richtext_parent_df = pd.DataFrame(richtext_parent_list, columns=richtext_parent_column)\n",
    "        second_child_page = Page.objects.filter(parent__in=first_child_page)\n",
    "        second_child_page_ids = second_child_page.values_list('id', flat=True)\n",
    "        richtext_child = RichTextPage.objects.filter(page_ptr_id__in=second_child_page_ids)\n",
    "        richtext_child_list = list(\n",
    "            richtext_child.values_list('page_ptr', 'page_ptr__title', 'parent', 'parent__title', 'content'))\n",
    "        richtext_child_column = ['page_ptr', 'page_ptr_title', 'parent', 'title', 'content']\n",
    "        richtext_child_df = pd.DataFrame(richtext_child_list, columns=richtext_child_column)\n",
    "        final_df = richtext_parent_df.merge(richtext_child_df, how=\"outer\", left_on='id', right_on='parent')\n",
    "        final_df = final_df.fillna(0)\n",
    "        master_df = final_df.merge(richtext_child_df, how=\"outer\", left_on='page_ptr', right_on='page_ptr')\n",
    "        master_df = master_df.fillna(0)\n",
    "        indroduction_dict = {}\n",
    "        for index, row in richtext_parent_df.iterrows():\n",
    "            indroduction_dict[row['parent_title']] = row['main_content']\n",
    "        master_dict = {}\n",
    "        for index, row in master_df.iterrows():\n",
    "            if row['parent_title'] not in master_dict:\n",
    "                master_dict[row['parent_title']] = []\n",
    "            temp_dict = {}\n",
    "            if row['page_ptr_title_x'] != 0:\n",
    "                temp_dict['title'] = row['page_ptr_title_x']\n",
    "                temp_dict['content'] = row['content_x']\n",
    "                temp_dict['page_id'] = row['page_ptr']\n",
    "                master_dict[row['parent_title']].append(temp_dict)\n",
    "        parent_child_dict = {\n",
    "            'parent': indroduction_dict,\n",
    "            'child': master_dict\n",
    "        }\n",
    "        print(parent_child_dict)\n",
    "#         return Response(parent_child_dict, status=status.HTTP_200_OK)\n",
    "    except Exception as e:\n",
    "        print(e)"
   ]
  },
  {
   "cell_type": "code",
   "execution_count": 29,
   "id": "sealed-carnival",
   "metadata": {},
   "outputs": [
    {
     "data": {
      "text/plain": [
       "{'title': [{'id': 346,\n",
       "   'parent': 332,\n",
       "   'parent_title': 'Product 1',\n",
       "   'main_content': '<p><img alt=\"\" height=\"480\" src=\"https://upload.wikimedia.org/wikipedia/commons/thumb/b/b6/Image_created_with_a_mobile_phone.png/640px-Image_created_with_a_mobile_phone.png\" width=\"640\"></p>'},\n",
       "  {'id': 348,\n",
       "   'parent': 332,\n",
       "   'parent_title': 'product 2',\n",
       "   'main_content': '<p>https://upload.wikimedia.org/wikipedia/commons/thumb/b/b6/Image_created_with_a_mobile_phone.png/640px-Image_created_with_a_mobile_phone.png</p>'}],\n",
       " 'childs': {346: [{'id': 347,\n",
       "    'parent': 346,\n",
       "    'parent_title': 'Intro',\n",
       "    'main_content': '<p>Images may be two or three-<a class=\"mw-redirect\" href=\"https://en.wikipedia.org/wiki/Dimensional\" title=\"Dimensional\">dimensional</a>, such as a<span>&nbsp;</span><a href=\"https://en.wikipedia.org/wiki/Photograph\" title=\"Photograph\">photograph</a><span>&nbsp;</span>or screen display, or three-dimensional, such as a<span>&nbsp;</span><a href=\"https://en.wikipedia.org/wiki/Statue\" title=\"Statue\">statue</a><span>&nbsp;</span>or<span>&nbsp;</span><a class=\"mw-redirect\" href=\"https://en.wikipedia.org/wiki/Hologram\" title=\"Hologram\">hologram</a>. They may be captured by<span>&nbsp;</span><a href=\"https://en.wikipedia.org/wiki/Optics\" title=\"Optics\">optical</a><span>&nbsp;</span>devices &ndash; such as<span>&nbsp;</span><a href=\"https://en.wikipedia.org/wiki/Camera\" title=\"Camera\">cameras</a>,<span>&nbsp;</span><a href=\"https://en.wikipedia.org/wiki/Mirror\" title=\"Mirror\">mirrors</a>,<span>&nbsp;</span><a class=\"mw-redirect\" href=\"https://en.wikipedia.org/wiki/Lens_(optics)\" title=\"Lens (optics)\">lenses</a>,<span>&nbsp;</span><a href=\"https://en.wikipedia.org/wiki/Telescope\" title=\"Telescope\">telescopes</a>,<span>&nbsp;</span><a href=\"https://en.wikipedia.org/wiki/Microscope\" title=\"Microscope\">microscopes</a>, etc. and natural objects and phenomena, such as the<span>&nbsp;</span><a href=\"https://en.wikipedia.org/wiki/Human_eye\" title=\"Human eye\">human eye</a><span>&nbsp;</span>or water.</p>\\n<p>The word \\'image\\' is also used in the broader sense of any two-dimensional figure such as a<span>&nbsp;</span><a href=\"https://en.wikipedia.org/wiki/Map\" title=\"Map\">map</a>, a<span>&nbsp;</span><a class=\"mw-redirect\" href=\"https://en.wikipedia.org/wiki/Graph_(data_structure)\" title=\"Graph (data structure)\">graph</a>, a<span>&nbsp;</span><a href=\"https://en.wikipedia.org/wiki/Pie_chart\" title=\"Pie chart\">pie chart</a>, a<span>&nbsp;</span><a class=\"mw-redirect\" href=\"https://en.wikipedia.org/wiki/Painting_(object)\" title=\"Painting (object)\">painting</a><span>&nbsp;</span>or a<span>&nbsp;</span><a href=\"https://en.wikipedia.org/wiki/Banner\" title=\"Banner\">banner</a>. In this wider sense, images can also be<span>&nbsp;</span><i>rendered</i><span>&nbsp;</span>manually, such as by<span>&nbsp;</span><a href=\"https://en.wikipedia.org/wiki/Drawing\" title=\"Drawing\">drawing</a>, the<span>&nbsp;</span><a href=\"https://en.wikipedia.org/wiki/Painting\" title=\"Painting\">art of painting</a>,<span>&nbsp;</span><a class=\"extiw\" href=\"https://en.wiktionary.org/wiki/carving\" title=\"wikt:carving\">carving</a>, rendered automatically by<span>&nbsp;</span><a href=\"https://en.wikipedia.org/wiki/Printing\" title=\"Printing\">printing</a><span>&nbsp;</span>or<span>&nbsp;</span><a href=\"https://en.wikipedia.org/wiki/Computer_graphics\" title=\"Computer graphics\">computer graphics</a><span>&nbsp;</span>technology, or<span>&nbsp;</span><a class=\"mw-redirect\" href=\"https://en.wikipedia.org/wiki/Image_development_(visual_arts)\" title=\"Image development (visual arts)\">developed</a><span>&nbsp;</span>by a combination of methods, especially in a<span>&nbsp;</span><a href=\"https://en.wikipedia.org/wiki/Pseudo-photograph\" title=\"Pseudo-photograph\">pseudo-photograph</a>.</p>'}],\n",
       "  348: [{'id': 349,\n",
       "    'parent': 348,\n",
       "    'parent_title': 'Intro',\n",
       "    'main_content': '<p>Images may be two or three-<a class=\"mw-redirect\" href=\"https://en.wikipedia.org/wiki/Dimensional\" title=\"Dimensional\">dimensional</a>, such as a<span>&nbsp;</span><a href=\"https://en.wikipedia.org/wiki/Photograph\" title=\"Photograph\">photograph</a><span>&nbsp;</span>or screen display, or three-dimensional, such as a<span>&nbsp;</span><a href=\"https://en.wikipedia.org/wiki/Statue\" title=\"Statue\">statue</a><span>&nbsp;</span>or<span>&nbsp;</span><a class=\"mw-redirect\" href=\"https://en.wikipedia.org/wiki/Hologram\" title=\"\">hologram</a>. They may be captured by<span>&nbsp;</span><a href=\"https://en.wikipedia.org/wiki/Optics\" title=\"Optics\">optical</a><span>&nbsp;</span>devices &ndash; such as<span>&nbsp;</span><a href=\"https://en.wikipedia.org/wiki/Camera\" title=\"Camera\">cameras</a>,<span>&nbsp;</span><a href=\"https://en.wikipedia.org/wiki/Mirror\" title=\"Mirror\">mirrors</a>,<span>&nbsp;</span><a class=\"mw-redirect\" href=\"https://en.wikipedia.org/wiki/Lens_(optics)\" title=\"Lens (optics)\">lenses</a>,<span>&nbsp;</span><a href=\"https://en.wikipedia.org/wiki/Telescope\" title=\"Telescope\">telescopes</a>,<span>&nbsp;</span><a href=\"https://en.wikipedia.org/wiki/Microscope\" title=\"Microscope\">microscopes</a>, etc. and natural objects and phenomena, such as the<span>&nbsp;</span><a href=\"https://en.wikipedia.org/wiki/Human_eye\" title=\"Human eye\">human eye</a><span>&nbsp;</span>or water.</p>\\n<p>The word \\'image\\' is also used in the broader sense of any two-dimensional figure such as a<span>&nbsp;</span><a href=\"https://en.wikipedia.org/wiki/Map\" title=\"Map\">map</a>, a<span>&nbsp;</span><a class=\"mw-redirect\" href=\"https://en.wikipedia.org/wiki/Graph_(data_structure)\" title=\"Graph (data structure)\">graph</a>, a<span>&nbsp;</span><a href=\"https://en.wikipedia.org/wiki/Pie_chart\" title=\"Pie chart\">pie chart</a>, a<span>&nbsp;</span><a class=\"mw-redirect\" href=\"https://en.wikipedia.org/wiki/Painting_(object)\" title=\"Painting (object)\">painting</a><span>&nbsp;</span>or a<span>&nbsp;</span><a href=\"https://en.wikipedia.org/wiki/Banner\" title=\"Banner\">banner</a>. In this wider sense, images can also be<span>&nbsp;</span><i>rendered</i><span>&nbsp;</span>manually, such as by<span>&nbsp;</span><a href=\"https://en.wikipedia.org/wiki/Drawing\" title=\"Drawing\">drawing</a>, the<span>&nbsp;</span><a href=\"https://en.wikipedia.org/wiki/Painting\" title=\"Painting\">art of painting</a>,<span>&nbsp;</span><a class=\"extiw\" href=\"https://en.wiktionary.org/wiki/carving\" title=\"wikt:carving\">carving</a>, rendered automatically by<span>&nbsp;</span><a href=\"https://en.wikipedia.org/wiki/Printing\" title=\"Printing\">printing</a><span>&nbsp;</span>or<span>&nbsp;</span><a href=\"https://en.wikipedia.org/wiki/Computer_graphics\" title=\"Computer graphics\">computer graphics</a><span>&nbsp;</span>technology, or<span>&nbsp;</span><a class=\"mw-redirect\" href=\"https://en.wikipedia.org/wiki/Image_development_(visual_arts)\" title=\"Image development (visual arts)\">developed</a><span>&nbsp;</span>by a combination of methods, especially in a<span>&nbsp;</span><a href=\"https://en.wikipedia.org/wiki/Pseudo-photograph\" title=\"Pseudo-photograph\">pseudo-photograph</a>.</p>'}]}}"
      ]
     },
     "execution_count": 29,
     "metadata": {},
     "output_type": "execute_result"
    }
   ],
   "source": [
    "import pandas as pd\n",
    "product_obj = Page.objects.filter(title='Products')\n",
    "products = Page.objects.filter(parent=product_obj)\n",
    "product_ids = products.values_list('id', flat=True)\n",
    "richtext_parent = RichTextPage.objects.filter(page_ptr_id__in=product_ids)\n",
    "\n",
    "richtext_parent_list = list(richtext_parent.values_list('id', 'parent', 'title', 'content'))\n",
    "richtext_parent_column = ['id', 'parent', 'parent_title', 'main_content']\n",
    "richtext_parent_df = pd.DataFrame(richtext_parent_list, columns=richtext_parent_column)\n",
    "richtext_parent_df\n",
    "\n",
    "second_parent = list(richtext_parent.values_list('id',flat=True))\n",
    "second_richtext_parent = RichTextPage.objects.filter(parent_id__in=second_parent)\n",
    "\n",
    "second_richtext_parent_list = list(second_richtext_parent.values_list('id', 'parent', 'title', 'content'))\n",
    "second_richtext_parent_column = ['id', 'parent', 'parent_title', 'main_content']\n",
    "second_richtext_parent_df = pd.DataFrame(second_richtext_parent_list, columns=second_richtext_parent_column)\n",
    "\n",
    "data_dict = {}\n",
    "data_dict['title'] = richtext_parent_df.to_dict('r')\n",
    "data_dict['childs'] = second_richtext_parent_df.groupby('parent').apply(lambda x:x.to_dict('r')).to_dict()\n",
    "data_dict"
   ]
  },
  {
   "cell_type": "code",
   "execution_count": 23,
   "id": "rolled-uncle",
   "metadata": {},
   "outputs": [
    {
     "data": {
      "text/plain": [
       "[346, 348]"
      ]
     },
     "execution_count": 23,
     "metadata": {},
     "output_type": "execute_result"
    }
   ],
   "source": [
    "\n",
    "second_parent\n",
    "RichTextPage.objects.filter(page_ptr_id__in=second_parent)"
   ]
  },
  {
   "cell_type": "code",
   "execution_count": 2,
   "id": "solved-anime",
   "metadata": {},
   "outputs": [
    {
     "name": "stderr",
     "output_type": "stream",
     "text": [
      "/home/r_k_vijay/Softwares/virtualenv/pagems/lib/python3.9/site-packages/pandas/core/frame.py:1549: FutureWarning: Using short name for 'orient' is deprecated. Only the options: ('dict', list, 'series', 'split', 'records', 'index') will be used in a future version. Use one of the above to silence this warning.\n",
      "  warnings.warn(\n"
     ]
    },
    {
     "data": {
      "text/plain": [
       "[{'id': 346,\n",
       "  'title': 'Product 1',\n",
       "  'description': 'Images may be two or three-dimensional, such as a&nbsp;photograph&nbsp;or screen display, or three-dimensional, such as a&nbsp;statue&nbsp;or&nbsp;hologram. They may be captured by&nbsp;optical&nbsp;devices &ndash; such as&nbsp;cameras,&nbsp;mirrors,&nbsp;lenses,&nbsp;telescopes,&nbsp;microscopes, etc. and natural objects and phenomena, such as the&nbsp;human eye&nbsp;or water.',\n",
       "  'image': 'https://upload.wikimedia.org/wikipedia/commons/thumb/b/b6/Image_created_with_a_mobile_phone.png/640px-Image_created_with_a_mobile_phone.png'},\n",
       " {'id': 348,\n",
       "  'title': 'product 2',\n",
       "  'description': 'Images may be two or three-dimensional, such as a&nbsp;photograph&nbsp;or screen display, or three-dimensional, such as a&nbsp;statue&nbsp;or&nbsp;hologram. They may be captured by&nbsp;optical&nbsp;devices &ndash; such as&nbsp;cameras,&nbsp;mirrors,&nbsp;lenses,&nbsp;telescopes,&nbsp;microscopes, etc. and natural objects and phenomena, such as the&nbsp;human eye&nbsp;or water.',\n",
       "  'image': 'https://upload.wikimedia.org/wikipedia/commons/thumb/b/b6/Image_created_with_a_mobile_phone.png/640px-Image_created_with_a_mobile_phone.png'}]"
      ]
     },
     "execution_count": 2,
     "metadata": {},
     "output_type": "execute_result"
    }
   ],
   "source": [
    "import pandas as pd\n",
    "product_obj = Page.objects.filter(title='Products')\n",
    "products = Page.objects.filter(parent=product_obj)\n",
    "product_ids = products.values_list('id', flat=True)\n",
    "richtext_parent = RichTextPage.objects.filter(page_ptr_id__in=product_ids)\n",
    "\n",
    "richtext_parent_list = list(richtext_parent.values_list('id', 'parent', 'title', 'content'))\n",
    "richtext_parent_column = ['id', 'parent', 'parent_title', 'main_content']\n",
    "richtext_parent_df = pd.DataFrame(richtext_parent_list, columns=richtext_parent_column)\n",
    "richtext_parent_df\n",
    "\n",
    "second_parent = list(richtext_parent.values_list('id',flat=True))\n",
    "second_richtext_parent = RichTextPage.objects.filter(parent_id__in=second_parent)\n",
    "pd.DataFrame(list(second_richtext_parent.values_list('parent_id','parent__title', 'description', 'parent__description')), columns=['id', 'title', 'description', 'image']).to_dict('r')"
   ]
  },
  {
   "cell_type": "code",
   "execution_count": 34,
   "id": "essential-seattle",
   "metadata": {},
   "outputs": [],
   "source": [
    "from base64 import b64encode, b64decode\n",
    "from django.conf import settings"
   ]
  },
  {
   "cell_type": "code",
   "execution_count": 43,
   "id": "after-coalition",
   "metadata": {},
   "outputs": [],
   "source": [
    "def advisory_image_location(image_tag):\n",
    "    try:\n",
    "        split1 = image_tag.split(\"src=\")[1]\n",
    "        print(split1)\n",
    "        split2 = split1.split(\" \")[:-1]\n",
    "        print(split2)\n",
    "        print(str(split2)[9:-3])\n",
    "        return str(split2)[9:-3]\n",
    "    except Exception as e:\n",
    "        print(e)\n",
    "        return \"\""
   ]
  },
  {
   "cell_type": "code",
   "execution_count": 44,
   "id": "reserved-pharmaceutical",
   "metadata": {},
   "outputs": [],
   "source": [
    "def encode_image_to_base64(image_path):\n",
    "    try:\n",
    "        image_path = settings.MEDIA_ROOT + image_path\n",
    "        with open(image_path, 'rb') as image_file:\n",
    "            encoded_image = b64encode(image_file.read())\n",
    "            return encoded_image\n",
    "    except Exception as e:\n",
    "        print(e)\n",
    "        return \"\""
   ]
  },
  {
   "cell_type": "code",
   "execution_count": 45,
   "id": "diagnostic-principal",
   "metadata": {},
   "outputs": [
    {
     "name": "stdout",
     "output_type": "stream",
     "text": [
      "\"/media/uploads/wri_te.jpeg\" width=\"299\"></p>\n",
      "['\"/media/uploads/wri_te.jpeg\"']\n",
      "/uploads/wri_te.jpeg\n",
      "list index out of range\n",
      "list index out of range\n",
      "list index out of range\n",
      "list index out of range\n",
      "list index out of range\n",
      "list index out of range\n",
      "list index out of range\n",
      "list index out of range\n",
      "list index out of range\n",
      "list index out of range\n",
      "[Errno 21] Is a directory: '/home/sunesh/Software/page_ms/page_microservice/media'\n",
      "[Errno 21] Is a directory: '/home/sunesh/Software/page_ms/page_microservice/media'\n",
      "[Errno 21] Is a directory: '/home/sunesh/Software/page_ms/page_microservice/media'\n",
      "[Errno 21] Is a directory: '/home/sunesh/Software/page_ms/page_microservice/media'\n",
      "[Errno 21] Is a directory: '/home/sunesh/Software/page_ms/page_microservice/media'\n",
      "[Errno 21] Is a directory: '/home/sunesh/Software/page_ms/page_microservice/media'\n",
      "[Errno 21] Is a directory: '/home/sunesh/Software/page_ms/page_microservice/media'\n",
      "[Errno 21] Is a directory: '/home/sunesh/Software/page_ms/page_microservice/media'\n",
      "[Errno 21] Is a directory: '/home/sunesh/Software/page_ms/page_microservice/media'\n",
      "[Errno 21] Is a directory: '/home/sunesh/Software/page_ms/page_microservice/media'\n"
     ]
    },
    {
     "data": {
      "text/plain": [
       "{'crop_list': [{'title': 'சவுக்கு',\n",
       "   'image_link': '/uploads/wri_te.jpeg',\n",
       "   'id': 200,\n",
       "   'image': b'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'},\n",
       "  {'title': 'யூக்கலிப்டஸ்', 'image_link': '', 'id': 4, 'image': ''},\n",
       "  {'title': 'தேக்கு', 'image_link': '', 'id': 162, 'image': ''},\n",
       "  {'title': 'மலைவேம்பு', 'image_link': '', 'id': 174, 'image': ''},\n",
       "  {'title': 'குமிழ்', 'image_link': '', 'id': 81, 'image': ''},\n",
       "  {'title': 'புளி', 'image_link': '', 'id': 68, 'image': ''},\n",
       "  {'title': 'வெள்ளைக் கடம்பு', 'image_link': '', 'id': 126, 'image': ''},\n",
       "  {'title': 'பெருமரம்', 'image_link': '', 'id': 186, 'image': ''},\n",
       "  {'title': 'புன்னை', 'image_link': '', 'id': 195, 'image': ''},\n",
       "  {'title': 'காற்றுத் தடுப்பு மர இரகங்கள்',\n",
       "   'image_link': '',\n",
       "   'id': 54,\n",
       "   'image': ''},\n",
       "  {'title': 'பூச்சி, நோய் நிர்வாகம்',\n",
       "   'image_link': '',\n",
       "   'id': 191,\n",
       "   'image': ''}],\n",
       " 'crop_dict': {4: [{'id': 114, 'title': 'அறிமுகம்', 'parent_id': 4},\n",
       "   {'id': 5, 'title': 'நடவு', 'parent_id': 4},\n",
       "   {'id': 6, 'title': 'சாகுபடி முறை', 'parent_id': 4},\n",
       "   {'id': 113, 'title': 'அறுவடை', 'parent_id': 4},\n",
       "   {'id': 206, 'title': 'பூச்சி, நோய் நிர்வாகம்', 'parent_id': 4}],\n",
       "  54: [{'id': 66, 'title': 'அறிமுகம்', 'parent_id': 54},\n",
       "   {'id': 56, 'title': 'நடவு', 'parent_id': 54},\n",
       "   {'id': 160, 'title': 'சாகுபடி முறை', 'parent_id': 54},\n",
       "   {'id': 161, 'title': 'அறுவடை', 'parent_id': 54}],\n",
       "  68: [{'id': 150, 'title': 'அறிமுகம்', 'parent_id': 68},\n",
       "   {'id': 71, 'title': 'நடவு', 'parent_id': 68},\n",
       "   {'id': 151, 'title': 'சாகுபடி முறை', 'parent_id': 68},\n",
       "   {'id': 152, 'title': 'அறுவடை', 'parent_id': 68}],\n",
       "  81: [{'id': 82, 'title': 'அறிமுகம்', 'parent_id': 81},\n",
       "   {'id': 155, 'title': 'நடவு', 'parent_id': 81},\n",
       "   {'id': 157, 'title': 'சாகுபடி முறை', 'parent_id': 81},\n",
       "   {'id': 158, 'title': 'அறுவடை', 'parent_id': 81}],\n",
       "  126: [{'id': 127, 'title': 'அறிமுகம்', 'parent_id': 126},\n",
       "   {'id': 135, 'title': 'நடவு', 'parent_id': 126},\n",
       "   {'id': 142, 'title': 'சாகுபடி முறை', 'parent_id': 126},\n",
       "   {'id': 148, 'title': 'அறுவடை', 'parent_id': 126},\n",
       "   {'id': 205, 'title': 'பூச்சி, நோய் நிர்வாகம்', 'parent_id': 126}],\n",
       "  162: [{'id': 163, 'title': 'அறிமுகம்', 'parent_id': 162},\n",
       "   {'id': 166, 'title': 'நடவு', 'parent_id': 162},\n",
       "   {'id': 169, 'title': 'சாகுபடி முறை', 'parent_id': 162},\n",
       "   {'id': 172, 'title': 'அறுவடை', 'parent_id': 162},\n",
       "   {'id': 209, 'title': 'பூச்சி, நோய் நிர்வாகம்', 'parent_id': 162}],\n",
       "  174: [{'id': 175, 'title': 'அறிமுகம்', 'parent_id': 174},\n",
       "   {'id': 177, 'title': 'நடவு', 'parent_id': 174},\n",
       "   {'id': 184, 'title': 'சாகுபடி முறை', 'parent_id': 174},\n",
       "   {'id': 185, 'title': 'அறுவடை', 'parent_id': 174}],\n",
       "  186: [{'id': 187, 'title': 'அறிமுகம்', 'parent_id': 186},\n",
       "   {'id': 188, 'title': 'நடவு', 'parent_id': 186},\n",
       "   {'id': 189, 'title': 'சாகுபடி முறை', 'parent_id': 186},\n",
       "   {'id': 190, 'title': 'அறுவடை', 'parent_id': 186},\n",
       "   {'id': 207, 'title': 'பூச்சி, நோய் நிர்வாகம்', 'parent_id': 186}],\n",
       "  191: [{'id': 192, 'title': 'அறிமுகம்', 'parent_id': 191},\n",
       "   {'id': 193, 'title': 'நாற்றங்கால் நோய்கள்', 'parent_id': 191},\n",
       "   {'id': 194, 'title': 'தோப்பு நோய்கள்', 'parent_id': 191}],\n",
       "  195: [{'id': 196, 'title': 'அறிமுகம்', 'parent_id': 195},\n",
       "   {'id': 197, 'title': 'நடவு', 'parent_id': 195},\n",
       "   {'id': 198, 'title': 'சாகுபடி முறை', 'parent_id': 195},\n",
       "   {'id': 199, 'title': 'அறுவடை', 'parent_id': 195}],\n",
       "  200: [{'id': 201, 'title': 'அறிமுகம்', 'parent_id': 200},\n",
       "   {'id': 202, 'title': 'நடவு', 'parent_id': 200},\n",
       "   {'id': 203, 'title': 'சாகுபடி', 'parent_id': 200},\n",
       "   {'id': 204, 'title': 'அறுவடை', 'parent_id': 200},\n",
       "   {'id': 208, 'title': 'பூச்சி, நோய் நிர்வாகம்', 'parent_id': 200}]}}"
      ]
     },
     "execution_count": 45,
     "metadata": {},
     "output_type": "execute_result"
    }
   ],
   "source": [
    "advisory_page = Page.objects.filter(title='ADVISORY_TAMIL',parent_id=1)\n",
    "\n",
    "child_page = Page.objects.filter(parent=advisory_page).order_by('_order')\n",
    "crop_names = child_page.values_list('title', 'richtextpage__content', 'id')\n",
    "crop_columns = ['title', 'image_link', 'id']\n",
    "crop_df = pd.DataFrame(crop_names, columns=crop_columns)\n",
    "\n",
    "crop_df['image_link'] = crop_df.apply(lambda x: advisory_image_location(x['image_link']), axis=1)\n",
    "crop_df['image'] = crop_df.apply(lambda x: encode_image_to_base64(x['image_link']), axis=1)\n",
    "\n",
    "parent_ids = list(child_page.values_list('id', flat=True))\n",
    "crop_level_two_obj = Page.objects.filter(parent_id__in=parent_ids).order_by('_order')\n",
    "crop_level_two_list = list(crop_level_two_obj.values_list('id', 'title', 'parent_id'))\n",
    "crop_level_two_column = ['id', 'title', 'parent_id']\n",
    "crop_level_two_df = pd.DataFrame(crop_level_two_list, columns=crop_level_two_column)\n",
    "crop_level_two_dict = crop_level_two_df.groupby('parent_id').apply(lambda x:x.to_dict('r')).to_dict()\n",
    "data_dict = {\n",
    "    'crop_list': crop_df.to_dict('r'),\n",
    "    'crop_dict': crop_level_two_dict\n",
    " }\n",
    "data_dict"
   ]
  },
  {
   "cell_type": "code",
   "execution_count": null,
   "id": "particular-witch",
   "metadata": {},
   "outputs": [],
   "source": []
  }
 ],
 "metadata": {
  "kernelspec": {
   "display_name": "Django Shell-Plus",
   "language": "python",
   "name": "django_extensions"
  },
  "language_info": {
   "codemirror_mode": {
    "name": "ipython",
    "version": 3
   },
   "file_extension": ".py",
   "mimetype": "text/x-python",
   "name": "python",
   "nbconvert_exporter": "python",
   "pygments_lexer": "ipython3",
   "version": "3.9.7"
  }
 },
 "nbformat": 4,
 "nbformat_minor": 5
}
